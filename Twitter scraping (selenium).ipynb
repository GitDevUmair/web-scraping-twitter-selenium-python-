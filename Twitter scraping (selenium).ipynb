{
 "cells": [
  {
   "cell_type": "code",
   "execution_count": 3,
   "metadata": {},
   "outputs": [],
   "source": [
    "from selenium import webdriver\n",
    "from selenium.webdriver.common.keys import Keys\n",
    "from webdriver_manager.chrome import ChromeDriverManager\n",
    "from selenium.webdriver.common.by import By\n",
    "from getpass import getpass\n",
    "from time import sleep"
   ]
  },
  {
   "cell_type": "code",
   "execution_count": 13,
   "metadata": {},
   "outputs": [
    {
     "name": "stderr",
     "output_type": "stream",
     "text": [
      "<ipython-input-13-6844d65d6494>:16: DeprecationWarning: executable_path has been deprecated, please pass in a Service object\n",
      "  driver = webdriver.Chrome(ChromeDriverManager().install())\n"
     ]
    },
    {
     "name": "stdout",
     "output_type": "stream",
     "text": [
      "········\n"
     ]
    }
   ],
   "source": [
    "def get_tweet_data(card):\n",
    "    username = card.find_element(By.XPATH ,\".//span\").text\n",
    "    handle = card.find_element(By.XPATH ,\".//span[contains(text(),'@')]\").text\n",
    "    try :\n",
    "        postdate = card.find_element(By.XPATH ,\"//article[@data-testid='tweet']/div[1]/div[1]/div[1]/div[2]//time\").get_attribute('datetime')\n",
    "    except NoSuchElementException: \n",
    "        pass\n",
    "    comment = card.find_element(By.XPATH, \"./div[2]/div[2]/div[1]\").text\n",
    "    responding = card.find_element(By.XPATH, \"./div[2]/div[2]/div[2]\").text\n",
    "    text = comment + responding\n",
    "    reply_count = card.find_element(By.XPATH, \".//div[@data-testid='reply']\").text\n",
    "    retweet_count = card.find_element(By.XPATH, \".//div[@data-testid='retweet']\").text\n",
    "    like_count = card.find_element(By.XPATH, \".//div[@data-testid='like']\").text\n",
    "    tweet = (username , handle , text , reply_count , retweet_count , like_count)\n",
    "    return tweet \n",
    "driver = webdriver.Chrome(ChromeDriverManager().install())\n",
    "driver.get(\"https://www.twitter.com/login\")\n",
    "sleep(10)\n",
    "username = driver.find_element(By.XPATH, \"//input[@name='text']\")\n",
    "username.send_keys('Umairrr_iqbal')\n",
    "next_button = driver.find_element(By.XPATH, \"//span[contains(text(),'Next')]\")\n",
    "next_button.click()\n",
    "my_password = getpass()\n",
    "sleep(3)\n",
    "password = driver.find_element(By.XPATH, \"//input[@name='password']\")\n",
    "password.send_keys(my_password)\n",
    "next_button = driver.find_element(By.XPATH, \"//span[contains(text(),'Log in')]\")\n",
    "next_button.click()\n",
    "sleep(3)\n",
    "search =  driver.find_element(By.XPATH,\"//a[@aria-label='Search and explore']\").click()\n",
    "sleep(3)\n",
    "enter_keys = driver.find_element(By.XPATH,\"//input[@aria-label='Search query']\")\n",
    "\n",
    "enter_keys.send_keys('#cricket')\n",
    "enter_keys.send_keys(Keys.RETURN)\n",
    "sleep(1)\n",
    "latest_button = driver.find_element(By.XPATH, \"//span[contains(text(),'Latest')]\")\n",
    "latest_button.click()\n",
    "tweet_ids = set()\n",
    "data=[]\n",
    "last_position = driver.execute_script('return window.pageYOffset;')\n",
    "scrolling = True\n",
    "while scrolling:\n",
    "    sleep(3)\n",
    "    page_cards = driver.find_elements(By.XPATH ,\"//article[@data-testid='tweet']/div[1]/div[1]/div[1]/div[2]\" )\n",
    "    for card in page_cards[-15:] :\n",
    "        tweet = get_tweet_data(card)\n",
    "        if tweet :\n",
    "            tweet_id = ''.join(tweet)\n",
    "            if tweet_id not in tweet_ids:\n",
    "                tweet_ids.add(tweet_id)\n",
    "                data.append(tweet)\n",
    "    scroll_attempt = 0\n",
    "    while True:\n",
    "        driver.execute_script('window.scrollTo(0,document.body.scrollHeight);')\n",
    "        sleep(1)\n",
    "        curr_position = driver.execute_script('return window.pageYOffset;')\n",
    "        if last_position == curr_position:\n",
    "            scroll_attempt +=1\n",
    "            if scroll_attempt >=3 :\n",
    "                scrolling = False \n",
    "                break\n",
    "            else :\n",
    "                sleep (2)      # attempt to scroll again \n",
    "        else : \n",
    "            last_position = curr_position \n",
    "            break"
   ]
  },
  {
   "cell_type": "code",
   "execution_count": 17,
   "metadata": {},
   "outputs": [
    {
     "name": "stdout",
     "output_type": "stream",
     "text": [
      "134\n"
     ]
    }
   ],
   "source": [
    "print(len(data))"
   ]
  },
  {
   "cell_type": "code",
   "execution_count": 30,
   "metadata": {},
   "outputs": [],
   "source": [
    "import csv"
   ]
  },
  {
   "cell_type": "code",
   "execution_count": 35,
   "metadata": {},
   "outputs": [],
   "source": [
    "with open('cricket_tweets.csv','w',newline = '', encoding='utf-8') as f :\n",
    "    header = ['Username', 'Handle' , 'Timestamp', 'Comments' , 'Likes ','Rewtweets', 'Text']\n",
    "    writer = csv.writer(f,delimiter=',')\n",
    "    writer.writerow(header)\n",
    "    for i in data:\n",
    "        writer.writerow(i)"
   ]
  },
  {
   "cell_type": "code",
   "execution_count": null,
   "metadata": {},
   "outputs": [],
   "source": []
  }
 ],
 "metadata": {
  "kernelspec": {
   "display_name": "Python 3",
   "language": "python",
   "name": "python3"
  },
  "language_info": {
   "codemirror_mode": {
    "name": "ipython",
    "version": 3
   },
   "file_extension": ".py",
   "mimetype": "text/x-python",
   "name": "python",
   "nbconvert_exporter": "python",
   "pygments_lexer": "ipython3",
   "version": "3.8.5"
  }
 },
 "nbformat": 4,
 "nbformat_minor": 4
}
